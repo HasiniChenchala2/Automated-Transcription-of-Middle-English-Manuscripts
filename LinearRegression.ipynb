{
  "cells": [
    {
      "cell_type": "code",
      "execution_count": 11,
      "metadata": {
        "colab": {
          "base_uri": "https://localhost:8080/"
        },
        "id": "Uc8ZkdrtvNkI",
        "outputId": "e4d9c27f-b2f5-44b0-c311-148cb8e8ca47"
      },
      "outputs": [
        {
          "name": "stdout",
          "output_type": "stream",
          "text": [
            "Image sizes saved to image_sizes.csv\n"
          ]
        }
      ],
      "source": [
        "# TO GET PIXEL WIDTHS IN A CSV FILE FOR A FOLDER OF IMAGES\n",
        "\n",
        "\n",
        "import csv\n",
        "from PIL import Image\n",
        "import os\n",
        "\n",
        "# Directory where your images are located\n",
        "image_directory = \"C://Users//hasin//Desktop//ALDA//ALDA project//engr-ALDA-Fall2023-P6-main//iter1\"\n",
        "\n",
        "# Output CSV file\n",
        "output_csv_file = \"image_sizes.csv\"\n",
        "\n",
        "# List of image file extensions to consider\n",
        "image_extensions = [\".jpg\", \".jpeg\", \".png\", \".gif\"]\n",
        "\n",
        "# Function to find the pixel width of an image\n",
        "def get_image_width(image_path):\n",
        "    with Image.open(image_path) as img:\n",
        "        width, _ = img.size\n",
        "        return width\n",
        "\n",
        "# List to store image widths\n",
        "image_widths = []\n",
        "\n",
        "# Iterate through files in the specified directory\n",
        "for filename in os.listdir(image_directory):\n",
        "    if any(filename.lower().endswith(ext) for ext in image_extensions):\n",
        "        image_path = os.path.join(image_directory, filename)\n",
        "        width = get_image_width(image_path)\n",
        "        image_widths.append((filename, width))\n",
        "\n",
        "# Save the pixel sizes in a CSV file\n",
        "with open(output_csv_file, 'w', newline='') as csv_file:\n",
        "    csv_writer = csv.writer(csv_file)\n",
        "    csv_writer.writerow([\"Filename\", \"Width (pixels)\"])\n",
        "    for filename, width in image_widths:\n",
        "        csv_writer.writerow([filename, width])\n",
        "\n",
        "print(f\"Image sizes saved to {output_csv_file}\")\n"
      ]
    },
    {
      "cell_type": "code",
      "execution_count": 13,
      "metadata": {
        "colab": {
          "base_uri": "https://localhost:8080/"
        },
        "id": "0B7A73uauXQc",
        "outputId": "acf60325-dd82-4787-bfb3-0b94cb5216e9"
      },
      "outputs": [
        {
          "name": "stdout",
          "output_type": "stream",
          "text": [
            "Mean Squared Error: 2.9770041137588397\n",
            "Cross-Validation Mean Squared Error: 3.5679773218921147\n"
          ]
        }
      ],
      "source": [
        "import numpy as np\n",
        "import pandas as pd\n",
        "from sklearn.model_selection import train_test_split, cross_val_score\n",
        "from sklearn.linear_model import LinearRegression\n",
        "from sklearn.metrics import mean_squared_error\n",
        "\n",
        "# Load your dataset with columns 'pixel_width' and 'letters'\n",
        "# Replace 'your_dataset.csv' with your actual dataset file.\n",
        "data = pd.read_csv('C://Users//hasin//Desktop//ALDA//ALDA project//engr-ALDA-Fall2023-P6-main//iter1//pixel_letters.csv')\n",
        "\n",
        "# Split the data into features (X) and target (y)\n",
        "X = data['pixel_width'].values.reshape(-1, 1)\n",
        "y = data['letters'].values\n",
        "\n",
        "# Split the data into a training set and a testing set (80-20 split)\n",
        "X_train, X_test, y_train, y_test = train_test_split(X, y, test_size=0.2, random_state=42)\n",
        "\n",
        "# Create a Linear Regression model\n",
        "model = LinearRegression()\n",
        "\n",
        "# Train the model on the training data\n",
        "model.fit(X_train, y_train)\n",
        "\n",
        "# Make predictions on the test data\n",
        "y_pred = model.predict(X_test)\n",
        "\n",
        "# Calculate the Mean Squared Error (MSE) to evaluate the model\n",
        "mse = mean_squared_error(y_test, y_pred)\n",
        "\n",
        "# Evaluate the model with cross-validation\n",
        "cv_scores = cross_val_score(model, X, y, cv=5, scoring='neg_mean_squared_error')\n",
        "mse_cv = -cv_scores.mean()\n",
        "\n",
        "# Print the Mean Squared Error and Cross-Validation Mean Squared Error\n",
        "print(\"Mean Squared Error:\", mse)\n",
        "print(\"Cross-Validation Mean Squared Error:\", mse_cv)\n"
      ]
    },
    {
      "cell_type": "code",
      "execution_count": 14,
      "metadata": {
        "colab": {
          "base_uri": "https://localhost:8080/"
        },
        "id": "bOUlzOLv4qnO",
        "outputId": "458af4cd-91dc-4458-ec37-a60e48490401"
      },
      "outputs": [
        {
          "name": "stdout",
          "output_type": "stream",
          "text": [
            "Predicted Letters: 7.960123257721002\n"
          ]
        }
      ],
      "source": [
        "# Assume 'pixel_length_to_predict' is the pixel length for which you want to predict the number of letters.\n",
        "pixel_length_to_predict = 300  # Replace with your desired pixel length\n",
        "\n",
        "# Use the trained Linear Regression model to make a prediction.\n",
        "predicted_letters = model.predict([[pixel_length_to_predict]])\n",
        "\n",
        "# Print the predicted number of letters.\n",
        "print(\"Predicted Letters:\", predicted_letters[0])\n"
      ]
    },
    {
      "cell_type": "code",
      "execution_count": 15,
      "metadata": {
        "colab": {
          "base_uri": "https://localhost:8080/"
        },
        "id": "dOjNVDW43MEx",
        "outputId": "ff4d0b13-e707-478c-94b0-395b95e1d64c"
      },
      "outputs": [],
      "source": [
        "# import numpy as np\n",
        "# import pandas as pd\n",
        "# from sklearn.model_selection import train_test_split, cross_val_score\n",
        "# from sklearn.ensemble import RandomForestRegressor\n",
        "# from sklearn.metrics import mean_squared_error\n",
        "\n",
        "# # Load your dataset with columns 'pixel_width' and 'letters'\n",
        "# # Replace 'your_dataset.csv' with your actual dataset file.\n",
        "# data = pd.read_csv('/content/pixel_letters.csv')\n",
        "\n",
        "# # Split the data into features (X) and target (y)\n",
        "# X = data['pixel_width'].values.reshape(-1, 1)\n",
        "# y = data['letters'].values\n",
        "\n",
        "# # Split the data into a training set and a testing set (80-20 split)\n",
        "# X_train, X_test, y_train, y_test = train_test_split(X, y, test_size=0.2, random_state=42)\n",
        "\n",
        "# # Create a Random Forest model\n",
        "# model = RandomForestRegressor(n_estimators=100, random_state=42)\n",
        "\n",
        "# # Train the model on the training data\n",
        "# model.fit(X_train, y_train)\n",
        "\n",
        "# # Make predictions on the test data\n",
        "# y_pred = model.predict(X_test)\n",
        "\n",
        "# # Calculate the Mean Squared Error (MSE) to evaluate the model\n",
        "# mse = mean_squared_error(y_test, y_pred)\n",
        "\n",
        "# # Evaluate the model with cross-validation\n",
        "# cv_scores = cross_val_score(model, X, y, cv=5, scoring='neg_mean_squared_error')\n",
        "# mse_cv = -cv_scores.mean()\n",
        "\n",
        "# # Print the Mean Squared Error and Cross-Validation Mean Squared Error\n",
        "# print(\"Mean Squared Error:\", mse)\n",
        "# print(\"Cross-Validation Mean Squared Error:\", mse_cv)\n"
      ]
    },
    {
      "cell_type": "code",
      "execution_count": null,
      "metadata": {},
      "outputs": [],
      "source": []
    }
  ],
  "metadata": {
    "colab": {
      "provenance": []
    },
    "kernelspec": {
      "display_name": "Python 3",
      "name": "python3"
    },
    "language_info": {
      "name": "python"
    }
  },
  "nbformat": 4,
  "nbformat_minor": 0
}
